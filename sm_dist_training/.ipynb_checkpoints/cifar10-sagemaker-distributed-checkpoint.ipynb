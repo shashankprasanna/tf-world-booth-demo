{
 "cells": [
  {
   "cell_type": "code",
   "execution_count": null,
   "metadata": {},
   "outputs": [],
   "source": [
    "import os\n",
    "import time\n",
    "import numpy as np\n",
    "import sagemaker\n",
    "\n",
    "sagemaker_session = sagemaker.Session()\n",
    "role = sagemaker.get_execution_role()\n",
    "bucket_name = 'tfworld2019'"
   ]
  },
  {
   "cell_type": "code",
   "execution_count": null,
   "metadata": {},
   "outputs": [],
   "source": [
    "hyperparameters = {'epochs': 100, \n",
    "                   'learning-rate': 0.001,\n",
    "                   'momentum': 0.9,\n",
    "                   'weight-decay': 2e-4,\n",
    "                   'optimizer': 'adam',\n",
    "                   'batch-size' : 256}\n",
    "\n",
    "hvd_instance_type = 'ml.p3.16xlarge'\n",
    "hvd_instance_count = 2\n",
    "hvd_processes_per_host = 8\n",
    "\n",
    "print('Distributed training with a total of {} workers'.format(hvd_processes_per_host*hvd_instance_count))\n",
    "print('{} x {} instances with {} GPUs per instance'.format(hvd_instance_count, hvd_instance_type, hvd_processes_per_host))"
   ]
  },
  {
   "cell_type": "code",
   "execution_count": null,
   "metadata": {},
   "outputs": [],
   "source": [
    "from sagemaker.tensorflow import TensorFlow\n",
    "\n",
    "output_path = 's3://{}/'.format(bucket_name)\n",
    "job_name = 'sm-dist-{}x{}-gpu-instances'.format(hvd_instance_count, hvd_processes_per_host) + time.strftime('%Y-%m-%d-%H-%M-%S-%j', time.gmtime())\n",
    "model_dir = output_path + 'tensorboard_logs/' + job_name\n",
    "\n",
    "distributions = {'mpi': {\n",
    "                    'enabled': True,\n",
    "                    'processes_per_host': hvd_processes_per_host,\n",
    "                    'custom_mpi_options': '-verbose --NCCL_DEBUG=INFO -x OMPI_MCA_btl_vader_single_copy_mechanism=none'\n",
    "                        }\n",
    "                }\n",
    "\n",
    "estimator_hvd = TensorFlow(base_job_name='hvd-cifar10-tf',\n",
    "                       source_dir='code',\n",
    "                       entry_point='cifar10-multi-gpu-horovod-sagemaker.py', \n",
    "                       role=role,\n",
    "                       framework_version='1.14',\n",
    "                       py_version='py3',\n",
    "                       hyperparameters=hyperparameters,\n",
    "                       train_instance_count=hvd_instance_count, \n",
    "                       train_instance_type=hvd_instance_type,\n",
    "                       output_path=output_path,\n",
    "                       model_dir=model_dir,\n",
    "                       tags = [{'Key' : 'Project', 'Value' : 'cifar10'},{'Key' : 'TensorBoard', 'Value' : 'dist'}],\n",
    "                       metric_definitions=[{'Name': 'val_acc', 'Regex': 'val_acc: ([0-9\\\\.]+)'}],\n",
    "                       distributions=distributions)"
   ]
  },
  {
   "cell_type": "code",
   "execution_count": null,
   "metadata": {},
   "outputs": [],
   "source": [
    "train_path = 's3://{}/cifar10-dataset/train'.format(bucket_name)\n",
    "val_path = 's3://{}/cifar10-dataset/validation'.format(bucket_name)\n",
    "eval_path = 's3://{}/cifar10-dataset/eval/'.format(bucket_name)\n",
    "\n",
    "estimator_hvd.fit({'train': train_path,'validation': val_path,'eval': eval_path}, \n",
    "                  job_name=job_name, wait=False)"
   ]
  },
  {
   "cell_type": "markdown",
   "metadata": {},
   "source": [
    "Launch tensorboard and open the link on a new tab to visualize training progress, and navigate to the following link"
   ]
  },
  {
   "cell_type": "code",
   "execution_count": 1,
   "metadata": {},
   "outputs": [
    {
     "name": "stdout",
     "output_type": "stream",
     "text": [
      "TensorBoard 1.14.0 at http://ip-172-16-11-53:6006/ (Press CTRL+C to quit)\n",
      "^C\n"
     ]
    }
   ],
   "source": [
    "!S3_REGION=us-west-2 tensorboard --logdir s3://{bucket_name}/tensorboard_logs/"
   ]
  },
  {
   "cell_type": "markdown",
   "metadata": {},
   "source": [
    "Open a new browser tan and navigate to the folloiwng link to access TensorBoard:\n",
    "</br> **Example**: https://tf-world-instance.notebook.us-west-2.sagemaker.aws/proxy/6006/\n",
    "</br> Don't forget the slash at the end of the URL 6006/"
   ]
  },
  {
   "cell_type": "code",
   "execution_count": null,
   "metadata": {
    "jupyter": {
     "source_hidden": true
    }
   },
   "outputs": [],
   "source": [
    "%matplotlib inline\n",
    "import matplotlib.pyplot as plt\n",
    "def plot_training_curves(history): \n",
    "    \n",
    "    fig, axes = plt.subplots(1, 2, figsize=(12, 4), sharex=True)\n",
    "    ax = axes[0]\n",
    "    ax.plot(history['acc'], label='train')\n",
    "    ax.plot(history['val_acc'], label='validation')\n",
    "    ax.set(\n",
    "        title='model accuracy',\n",
    "        ylabel='accuracy',\n",
    "        xlabel='epoch')\n",
    "    ax.legend()\n",
    "\n",
    "    ax = axes[1]\n",
    "    ax.plot(history['loss'], label='train')\n",
    "    ax.plot(history['val_loss'], label='validation')\n",
    "    ax.set(\n",
    "        title='model loss',\n",
    "        ylabel='loss',\n",
    "        xlabel='epoch')\n",
    "    ax.legend()\n",
    "    fig.tight_layout()"
   ]
  },
  {
   "cell_type": "code",
   "execution_count": null,
   "metadata": {
    "jupyter": {
     "source_hidden": true
    }
   },
   "outputs": [],
   "source": [
    "import json\n",
    "!aws s3 cp {estimator_hvd.model_data} ./hvd_model/model.tar.gz\n",
    "!tar -xzf ./hvd_model/model.tar.gz -C ./hvd_model\n",
    "\n",
    "with open('./hvd_model/hvd_history.p', \"r\") as f:\n",
    "    hvd_history = json.load(f)\n",
    "    \n",
    "plot_training_curves(hvd_history)"
   ]
  }
 ],
 "metadata": {
  "kernelspec": {
   "display_name": "conda_tensorflow_p36",
   "language": "python",
   "name": "conda_tensorflow_p36"
  },
  "language_info": {
   "codemirror_mode": {
    "name": "ipython",
    "version": 3
   },
   "file_extension": ".py",
   "mimetype": "text/x-python",
   "name": "python",
   "nbconvert_exporter": "python",
   "pygments_lexer": "ipython3",
   "version": "3.6.5"
  }
 },
 "nbformat": 4,
 "nbformat_minor": 4
}
